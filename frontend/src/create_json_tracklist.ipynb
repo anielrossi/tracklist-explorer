{
 "cells": [
  {
   "cell_type": "code",
   "execution_count": 18,
   "metadata": {},
   "outputs": [],
   "source": [
    "import glob\n",
    "import os\n",
    "import json\n",
    "\n",
    "dict_tracks = {}\n",
    "# for each text file in the data folder,\n",
    "for filepath in list(glob.glob(\"assets/txt/tracklists/*.txt\")):\n",
    "#load the file\n",
    "    key = os.path.basename(filepath).split(\"_\")[1][:-4]\n",
    "    with open(filepath, 'r') as file:\n",
    "        rows = file.read()\n",
    "        dict_tracks[key] = str(rows)"
   ]
  },
  {
   "cell_type": "code",
   "execution_count": 26,
   "metadata": {},
   "outputs": [],
   "source": [
    "with open('assets/json/tracks_json.json', 'w') as fp:\n",
    "    json.dump(dict_tracks, fp)"
   ]
  },
  {
   "cell_type": "code",
   "execution_count": null,
   "metadata": {},
   "outputs": [],
   "source": []
  }
 ],
 "metadata": {
  "kernelspec": {
   "display_name": "Python 3.10.4 ('tracklist_explorer')",
   "language": "python",
   "name": "python3"
  },
  "language_info": {
   "codemirror_mode": {
    "name": "ipython",
    "version": 3
   },
   "file_extension": ".py",
   "mimetype": "text/x-python",
   "name": "python",
   "nbconvert_exporter": "python",
   "pygments_lexer": "ipython3",
   "version": "3.10.4"
  },
  "orig_nbformat": 4,
  "vscode": {
   "interpreter": {
    "hash": "170203738516453d27774a514b73edb03d1f5555fde567d2557abff01c1e9fc9"
   }
  }
 },
 "nbformat": 4,
 "nbformat_minor": 2
}
