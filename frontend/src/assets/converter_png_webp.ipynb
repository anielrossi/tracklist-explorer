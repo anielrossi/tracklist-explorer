{
 "cells": [
  {
   "cell_type": "code",
   "execution_count": 3,
   "id": "bd86a574",
   "metadata": {},
   "outputs": [],
   "source": [
    "from PIL import Image"
   ]
  },
  {
   "cell_type": "code",
   "execution_count": 12,
   "id": "c6be4cf4",
   "metadata": {},
   "outputs": [
    {
     "name": "stdout",
     "output_type": "stream",
     "text": [
      "Requirement already satisfied: pathlib in c:\\users\\aniel\\miniconda3\\envs\\discogs\\lib\\site-packages (1.0.1)\n"
     ]
    }
   ],
   "source": [
    "!pip install pathlib"
   ]
  },
  {
   "cell_type": "code",
   "execution_count": 16,
   "id": "42be95a5",
   "metadata": {},
   "outputs": [],
   "source": [
    "from pathlib import Path"
   ]
  },
  {
   "cell_type": "code",
   "execution_count": 17,
   "id": "984cf985",
   "metadata": {},
   "outputs": [],
   "source": [
    "def convert_to_webp(source):\n",
    "    \"\"\"Convert image to WebP.\n",
    "\n",
    "    Args:\n",
    "        source (pathlib.Path): Path to source image\n",
    "\n",
    "    Returns:\n",
    "        pathlib.Path: path to new image\n",
    "    \"\"\"\n",
    "    destination = source.with_suffix(\".webp\")\n",
    "\n",
    "    image = Image.open(source)  # Open image\n",
    "    image.save(destination, format=\"webp\")  # Convert image to webp\n",
    "\n",
    "    return destination"
   ]
  },
  {
   "cell_type": "code",
   "execution_count": 20,
   "id": "9b95df06",
   "metadata": {},
   "outputs": [
    {
     "name": "stdout",
     "output_type": "stream",
     "text": [
      "img\\lowK-1-remastered.webp\n",
      "img\\lowK-10-remastered.webp\n",
      "img\\lowK-11-remastered.webp\n",
      "img\\lowK-12-remastered.webp\n",
      "img\\lowK-13-remastered.webp\n",
      "img\\lowK-14-remastered.webp\n",
      "img\\lowK-15-remastered.webp\n",
      "img\\lowK-16-remastered.webp\n",
      "img\\lowK-17-remastered.webp\n",
      "img\\lowK-18-remastered.webp\n",
      "img\\lowK-19-remastered.webp\n",
      "img\\lowK-2-remastered.webp\n",
      "img\\lowK-20-remastered.webp\n",
      "img\\lowK-3-remastered.webp\n",
      "img\\lowK-4-remastered.webp\n",
      "img\\lowK-5-remastered.webp\n",
      "img\\lowK-6-remastered.webp\n",
      "img\\lowK-7-remastered.webp\n",
      "img\\lowK-8-remastered.webp\n",
      "img\\lowK-9-remastered.webp\n",
      "img\\lowK-althia-remastered.webp\n",
      "img\\lowK-artsvs-remastered.webp\n",
      "img\\lowK-ascot-remastered.webp\n",
      "img\\lowK-behzad-remastered.webp\n",
      "img\\lowK-bighands-remastered.webp\n",
      "img\\lowK-dd-remastered.webp\n",
      "img\\lowK-doubleprecision-remastered.webp\n",
      "img\\lowK-edulcorants-remastered.webp\n",
      "img\\lowK-equohm-remastered.webp\n",
      "img\\lowK-kara-remastered.webp\n",
      "img\\lowK-matteocoffetti-remastered.webp\n",
      "img\\lowK-nema-remastered.webp\n",
      "img\\lowK-nicestrangers-remastered.webp\n",
      "img\\lowK-nodef-remastered.webp\n",
      "img\\lowK-ojoogyal-remastered.webp\n",
      "img\\lowK-orree-remastered.webp\n",
      "img\\lowK-sarahharas-remastered.webp\n",
      "img\\lowK-spirinet-remastered.webp\n",
      "img\\lowK-yips-remastered.webp\n"
     ]
    }
   ],
   "source": [
    "paths = Path(\"img\").glob(\"**/*.png\")\n",
    "for path in paths:\n",
    "    webp_path = convert_to_webp(path)\n",
    "    print(webp_path)"
   ]
  },
  {
   "cell_type": "code",
   "execution_count": null,
   "id": "31fd5f64",
   "metadata": {},
   "outputs": [],
   "source": []
  }
 ],
 "metadata": {
  "kernelspec": {
   "display_name": "Python [conda env:discogs]",
   "language": "python",
   "name": "conda-env-discogs-py"
  },
  "language_info": {
   "codemirror_mode": {
    "name": "ipython",
    "version": 3
   },
   "file_extension": ".py",
   "mimetype": "text/x-python",
   "name": "python",
   "nbconvert_exporter": "python",
   "pygments_lexer": "ipython3",
   "version": "3.10.4"
  }
 },
 "nbformat": 4,
 "nbformat_minor": 5
}
