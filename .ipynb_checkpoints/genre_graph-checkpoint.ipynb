{
 "cells": [
  {
   "cell_type": "code",
   "execution_count": 34,
   "id": "f0bc2643",
   "metadata": {},
   "outputs": [],
   "source": [
    "from pyvis.network import Network\n",
    "import json\n",
    "\n",
    "f = open('only_sindrome/episodes_per_style.json')\n",
    "  \n",
    "# returns JSON object as \n",
    "# a dictionary\n",
    "data = json.load(f)"
   ]
  },
  {
   "cell_type": "code",
   "execution_count": 35,
   "id": "0d603959",
   "metadata": {},
   "outputs": [],
   "source": [
    "net = Network(height='100%', width='100%', bgcolor='#222222', font_color='white')\n",
    "#net.barnes_hut()"
   ]
  },
  {
   "cell_type": "code",
   "execution_count": 36,
   "id": "ad4efc37",
   "metadata": {},
   "outputs": [],
   "source": [
    "net.show_buttons(filter_=['physics'])"
   ]
  },
  {
   "cell_type": "code",
   "execution_count": 37,
   "id": "e1c6adf2",
   "metadata": {},
   "outputs": [],
   "source": [
    "for idx,key in enumerate(data):\n",
    "    net.add_node(idx, label=key, title=data[key])\n",
    "    #net.add_edge(0,1)\n",
    "net.show('mygraph.html')"
   ]
  },
  {
   "cell_type": "code",
   "execution_count": null,
   "id": "34531a75",
   "metadata": {},
   "outputs": [],
   "source": []
  }
 ],
 "metadata": {
  "kernelspec": {
   "display_name": "Python [conda env:tracklist_explorer]",
   "language": "python",
   "name": "conda-env-tracklist_explorer-py"
  },
  "language_info": {
   "codemirror_mode": {
    "name": "ipython",
    "version": 3
   },
   "file_extension": ".py",
   "mimetype": "text/x-python",
   "name": "python",
   "nbconvert_exporter": "python",
   "pygments_lexer": "ipython3",
   "version": "3.10.4"
  }
 },
 "nbformat": 4,
 "nbformat_minor": 5
}
