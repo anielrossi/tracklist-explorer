{
 "cells": [
  {
   "cell_type": "code",
   "execution_count": 1,
   "id": "c208d854",
   "metadata": {},
   "outputs": [],
   "source": [
    "from os import listdir\n",
    "from os.path import isfile, join\n",
    "\n",
    "mypath = \"/Volumes/TOSHIBA/bandcamp_collection\"\n",
    "\n",
    "onlyfiles = [f for f in listdir(mypath) if isfile(join(mypath, f))]"
   ]
  },
  {
   "cell_type": "code",
   "execution_count": 5,
   "id": "a8cb7c5b",
   "metadata": {},
   "outputs": [],
   "source": [
    "import pandas as pd\n",
    "\n",
    "onlyfiles_series = pd.Series(onlyfiles, name=\"Records\")"
   ]
  },
  {
   "cell_type": "code",
   "execution_count": 15,
   "id": "28f052d2",
   "metadata": {},
   "outputs": [
    {
     "data": {
      "text/plain": [
       "0                           Krush Lumpkin - Rilascio.zip\n",
       "1                         ._Krush Lumpkin - Rilascio.zip\n",
       "2      Raccordo Fluviale Subalpino - Raccordo Fluvial...\n",
       "3      ._Raccordo Fluviale Subalpino - Raccordo Fluvi...\n",
       "4                 Dori Sorride - A Catturare I Raggi.zip\n",
       "                             ...                        \n",
       "811             ._Wedding Acid Group - Easid Bits EP.zip\n",
       "812                    Unknown Artists - Gomma Piuma.zip\n",
       "813                  ._Unknown Artists - Gomma Piuma.zip\n",
       "814         Sprawl + D'Arcangelo Remix - Time Tunnel.zip\n",
       "815       ._Sprawl + D'Arcangelo Remix - Time Tunnel.zip\n",
       "Name: Records, Length: 816, dtype: object"
      ]
     },
     "execution_count": 15,
     "metadata": {},
     "output_type": "execute_result"
    }
   ],
   "source": [
    "onlyfiles_series"
   ]
  },
  {
   "cell_type": "code",
   "execution_count": 25,
   "id": "6918954e",
   "metadata": {},
   "outputs": [
    {
     "data": {
      "text/plain": [
       "0                           Krush Lumpkin - Rilascio.zip\n",
       "1      Raccordo Fluviale Subalpino - Raccordo Fluvial...\n",
       "2                 Dori Sorride - A Catturare I Raggi.zip\n",
       "3                  Kinlaw & Franco Franco - WAVE LED.zip\n",
       "4                   Reptilian Expo - xperiametaphone.zip\n",
       "                             ...                        \n",
       "403                              Sondáil - Polydial.zip\n",
       "404                     Chris Moss Acid - Lill Chill.zip\n",
       "405               Wedding Acid Group - Easid Bits EP.zip\n",
       "406                    Unknown Artists - Gomma Piuma.zip\n",
       "407         Sprawl + D'Arcangelo Remix - Time Tunnel.zip\n",
       "Length: 408, dtype: object"
      ]
     },
     "execution_count": 25,
     "metadata": {},
     "output_type": "execute_result"
    }
   ],
   "source": [
    "onlyfiles_series = pd.Series([x for x in onlyfiles_series if not x.startswith(\".\")])\n",
    "onlyfiles_series"
   ]
  },
  {
   "cell_type": "code",
   "execution_count": 54,
   "id": "46741ee9",
   "metadata": {},
   "outputs": [],
   "source": [
    "df = pd.DataFrame({\"Artist\": onlyfiles_series.map(lambda x: (x.split(\"-\")[0])), \"Album\": onlyfiles_series.map(lambda x: (x.split(\"-\")[-1][:-4].strip()))})"
   ]
  },
  {
   "cell_type": "code",
   "execution_count": 56,
   "id": "674aa172",
   "metadata": {},
   "outputs": [
    {
     "data": {
      "text/html": [
       "<div>\n",
       "<style scoped>\n",
       "    .dataframe tbody tr th:only-of-type {\n",
       "        vertical-align: middle;\n",
       "    }\n",
       "\n",
       "    .dataframe tbody tr th {\n",
       "        vertical-align: top;\n",
       "    }\n",
       "\n",
       "    .dataframe thead th {\n",
       "        text-align: right;\n",
       "    }\n",
       "</style>\n",
       "<table border=\"1\" class=\"dataframe\">\n",
       "  <thead>\n",
       "    <tr style=\"text-align: right;\">\n",
       "      <th></th>\n",
       "      <th>Artist</th>\n",
       "      <th>Album</th>\n",
       "    </tr>\n",
       "  </thead>\n",
       "  <tbody>\n",
       "    <tr>\n",
       "      <th>0</th>\n",
       "      <td>Krush Lumpkin</td>\n",
       "      <td>Rilascio</td>\n",
       "    </tr>\n",
       "    <tr>\n",
       "      <th>1</th>\n",
       "      <td>Raccordo Fluviale Subalpino</td>\n",
       "      <td>Raccordo Fluviale Subalpino</td>\n",
       "    </tr>\n",
       "    <tr>\n",
       "      <th>2</th>\n",
       "      <td>Dori Sorride</td>\n",
       "      <td>A Catturare I Raggi</td>\n",
       "    </tr>\n",
       "    <tr>\n",
       "      <th>3</th>\n",
       "      <td>Kinlaw &amp; Franco Franco</td>\n",
       "      <td>WAVE LED</td>\n",
       "    </tr>\n",
       "    <tr>\n",
       "      <th>4</th>\n",
       "      <td>Reptilian Expo</td>\n",
       "      <td>xperiametaphone</td>\n",
       "    </tr>\n",
       "    <tr>\n",
       "      <th>...</th>\n",
       "      <td>...</td>\n",
       "      <td>...</td>\n",
       "    </tr>\n",
       "    <tr>\n",
       "      <th>403</th>\n",
       "      <td>Sondáil</td>\n",
       "      <td>Polydial</td>\n",
       "    </tr>\n",
       "    <tr>\n",
       "      <th>404</th>\n",
       "      <td>Chris Moss Acid</td>\n",
       "      <td>Lill Chill</td>\n",
       "    </tr>\n",
       "    <tr>\n",
       "      <th>405</th>\n",
       "      <td>Wedding Acid Group</td>\n",
       "      <td>Easid Bits EP</td>\n",
       "    </tr>\n",
       "    <tr>\n",
       "      <th>406</th>\n",
       "      <td>Unknown Artists</td>\n",
       "      <td>Gomma Piuma</td>\n",
       "    </tr>\n",
       "    <tr>\n",
       "      <th>407</th>\n",
       "      <td>Sprawl + D'Arcangelo Remix</td>\n",
       "      <td>Time Tunnel</td>\n",
       "    </tr>\n",
       "  </tbody>\n",
       "</table>\n",
       "<p>408 rows × 2 columns</p>\n",
       "</div>"
      ],
      "text/plain": [
       "                           Artist                        Album\n",
       "0                  Krush Lumpkin                      Rilascio\n",
       "1    Raccordo Fluviale Subalpino   Raccordo Fluviale Subalpino\n",
       "2                   Dori Sorride           A Catturare I Raggi\n",
       "3         Kinlaw & Franco Franco                      WAVE LED\n",
       "4                 Reptilian Expo               xperiametaphone\n",
       "..                            ...                          ...\n",
       "403                     Sondáil                      Polydial\n",
       "404              Chris Moss Acid                    Lill Chill\n",
       "405           Wedding Acid Group                 Easid Bits EP\n",
       "406              Unknown Artists                   Gomma Piuma\n",
       "407   Sprawl + D'Arcangelo Remix                   Time Tunnel\n",
       "\n",
       "[408 rows x 2 columns]"
      ]
     },
     "execution_count": 56,
     "metadata": {},
     "output_type": "execute_result"
    }
   ],
   "source": [
    "df"
   ]
  },
  {
   "cell_type": "code",
   "execution_count": 57,
   "id": "c51051fc",
   "metadata": {},
   "outputs": [],
   "source": [
    "#df.to_csv(\"digital_collection.csv\")"
   ]
  },
  {
   "cell_type": "code",
   "execution_count": 59,
   "id": "f7f878cd",
   "metadata": {},
   "outputs": [
    {
     "data": {
      "text/html": [
       "<div>\n",
       "<style scoped>\n",
       "    .dataframe tbody tr th:only-of-type {\n",
       "        vertical-align: middle;\n",
       "    }\n",
       "\n",
       "    .dataframe tbody tr th {\n",
       "        vertical-align: top;\n",
       "    }\n",
       "\n",
       "    .dataframe thead th {\n",
       "        text-align: right;\n",
       "    }\n",
       "</style>\n",
       "<table border=\"1\" class=\"dataframe\">\n",
       "  <thead>\n",
       "    <tr style=\"text-align: right;\">\n",
       "      <th></th>\n",
       "      <th>Artist</th>\n",
       "      <th>Album</th>\n",
       "    </tr>\n",
       "  </thead>\n",
       "  <tbody>\n",
       "    <tr>\n",
       "      <th>105</th>\n",
       "      <td>01.zip</td>\n",
       "      <td>01</td>\n",
       "    </tr>\n",
       "    <tr>\n",
       "      <th>5</th>\n",
       "      <td>AIR Krew</td>\n",
       "      <td>A Walk Through H</td>\n",
       "    </tr>\n",
       "    <tr>\n",
       "      <th>26</th>\n",
       "      <td>Abu Ama</td>\n",
       "      <td>AM002</td>\n",
       "    </tr>\n",
       "    <tr>\n",
       "      <th>332</th>\n",
       "      <td>Addison Groove</td>\n",
       "      <td>FOOTCRAB VIP REMASTER</td>\n",
       "    </tr>\n",
       "    <tr>\n",
       "      <th>44</th>\n",
       "      <td>Adriano Cava</td>\n",
       "      <td>Transient</td>\n",
       "    </tr>\n",
       "    <tr>\n",
       "      <th>...</th>\n",
       "      <td>...</td>\n",
       "      <td>...</td>\n",
       "    </tr>\n",
       "    <tr>\n",
       "      <th>143</th>\n",
       "      <td>wzrdryAV</td>\n",
       "      <td>Midnight Visions</td>\n",
       "    </tr>\n",
       "    <tr>\n",
       "      <th>382</th>\n",
       "      <td>xxoy</td>\n",
       "      <td>Wonderland</td>\n",
       "    </tr>\n",
       "    <tr>\n",
       "      <th>370</th>\n",
       "      <td>xxoy.</td>\n",
       "      <td>Vol. 2</td>\n",
       "    </tr>\n",
       "    <tr>\n",
       "      <th>366</th>\n",
       "      <td>xxoy.</td>\n",
       "      <td>Vol. 3 by xxoy</td>\n",
       "    </tr>\n",
       "    <tr>\n",
       "      <th>125</th>\n",
       "      <td>Đ.K.</td>\n",
       "      <td>The Ancient Kingdom</td>\n",
       "    </tr>\n",
       "  </tbody>\n",
       "</table>\n",
       "<p>408 rows × 2 columns</p>\n",
       "</div>"
      ],
      "text/plain": [
       "              Artist                  Album\n",
       "105           01.zip                     01\n",
       "5          AIR Krew        A Walk Through H\n",
       "26          Abu Ama                   AM002\n",
       "332  Addison Groove   FOOTCRAB VIP REMASTER\n",
       "44     Adriano Cava               Transient\n",
       "..               ...                    ...\n",
       "143        wzrdryAV        Midnight Visions\n",
       "382            xxoy              Wonderland\n",
       "370           xxoy.                  Vol. 2\n",
       "366           xxoy.          Vol. 3 by xxoy\n",
       "125            Đ.K.     The Ancient Kingdom\n",
       "\n",
       "[408 rows x 2 columns]"
      ]
     },
     "execution_count": 59,
     "metadata": {},
     "output_type": "execute_result"
    }
   ],
   "source": [
    "df.sort_values(\"Artist\")"
   ]
  },
  {
   "cell_type": "code",
   "execution_count": 60,
   "id": "209fe830",
   "metadata": {},
   "outputs": [],
   "source": [
    "df.to_csv(\"digital_collection.csv\")"
   ]
  },
  {
   "cell_type": "code",
   "execution_count": null,
   "id": "c336cd94",
   "metadata": {},
   "outputs": [],
   "source": []
  }
 ],
 "metadata": {
  "kernelspec": {
   "display_name": "Python [conda env:tracklist_explorer]",
   "language": "python",
   "name": "conda-env-tracklist_explorer-py"
  },
  "language_info": {
   "codemirror_mode": {
    "name": "ipython",
    "version": 3
   },
   "file_extension": ".py",
   "mimetype": "text/x-python",
   "name": "python",
   "nbconvert_exporter": "python",
   "pygments_lexer": "ipython3",
   "version": "3.10.4"
  }
 },
 "nbformat": 4,
 "nbformat_minor": 5
}
