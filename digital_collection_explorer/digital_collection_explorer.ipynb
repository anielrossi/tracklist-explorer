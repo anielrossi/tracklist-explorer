{
 "cells": [
  {
   "cell_type": "code",
   "execution_count": 1,
   "id": "c208d854",
   "metadata": {},
   "outputs": [],
   "source": [
    "from os import listdir\n",
    "from os.path import isfile, join\n",
    "\n",
    "mypath = \"/Volumes/TOSHIBA/bandcamp_collection\"\n",
    "\n",
    "onlyfiles = [f for f in listdir(mypath) if isfile(join(mypath, f))]"
   ]
  },
  {
   "cell_type": "code",
   "execution_count": 5,
   "id": "a8cb7c5b",
   "metadata": {},
   "outputs": [],
   "source": [
    "import pandas as pd\n",
    "\n",
    "onlyfiles_series = pd.Series(onlyfiles, name=\"Records\")"
   ]
  },
  {
   "cell_type": "code",
   "execution_count": 15,
   "id": "28f052d2",
   "metadata": {},
   "outputs": [
    {
     "data": {
      "text/plain": [
       "0                           Krush Lumpkin - Rilascio.zip\n",
       "1                         ._Krush Lumpkin - Rilascio.zip\n",
       "2      Raccordo Fluviale Subalpino - Raccordo Fluvial...\n",
       "3      ._Raccordo Fluviale Subalpino - Raccordo Fluvi...\n",
       "4                 Dori Sorride - A Catturare I Raggi.zip\n",
       "                             ...                        \n",
       "811             ._Wedding Acid Group - Easid Bits EP.zip\n",
       "812                    Unknown Artists - Gomma Piuma.zip\n",
       "813                  ._Unknown Artists - Gomma Piuma.zip\n",
       "814         Sprawl + D'Arcangelo Remix - Time Tunnel.zip\n",
       "815       ._Sprawl + D'Arcangelo Remix - Time Tunnel.zip\n",
       "Name: Records, Length: 816, dtype: object"
      ]
     },
     "execution_count": 15,
     "metadata": {},
     "output_type": "execute_result"
    }
   ],
   "source": [
    "onlyfiles_series"
   ]
  },
  {
   "cell_type": "code",
   "execution_count": 25,
   "id": "6918954e",
   "metadata": {},
   "outputs": [
    {
     "data": {
      "text/plain": [
       "0                           Krush Lumpkin - Rilascio.zip\n",
       "1      Raccordo Fluviale Subalpino - Raccordo Fluvial...\n",
       "2                 Dori Sorride - A Catturare I Raggi.zip\n",
       "3                  Kinlaw & Franco Franco - WAVE LED.zip\n",
       "4                   Reptilian Expo - xperiametaphone.zip\n",
       "                             ...                        \n",
       "403                              Sondáil - Polydial.zip\n",
       "404                     Chris Moss Acid - Lill Chill.zip\n",
       "405               Wedding Acid Group - Easid Bits EP.zip\n",
       "406                    Unknown Artists - Gomma Piuma.zip\n",
       "407         Sprawl + D'Arcangelo Remix - Time Tunnel.zip\n",
       "Length: 408, dtype: object"
      ]
     },
     "execution_count": 25,
     "metadata": {},
     "output_type": "execute_result"
    }
   ],
   "source": [
    "onlyfiles_series = pd.Series([x for x in onlyfiles_series if not x.startswith(\".\")])\n",
    "onlyfiles_series"
   ]
  },
  {
   "cell_type": "code",
   "execution_count": 54,
   "id": "46741ee9",
   "metadata": {},
   "outputs": [],
   "source": [
    "df = pd.DataFrame({\"Artist\": onlyfiles_series.map(lambda x: (x.split(\"-\")[0])), \"Album\": onlyfiles_series.map(lambda x: (x.split(\"-\")[-1][:-4].strip()))})"
   ]
  },
  {
   "cell_type": "code",
   "execution_count": 56,
   "id": "674aa172",
   "metadata": {},
   "outputs": [
    {
     "data": {
      "text/html": [
       "<div>\n",
       "<style scoped>\n",
       "    .dataframe tbody tr th:only-of-type {\n",
       "        vertical-align: middle;\n",
       "    }\n",
       "\n",
       "    .dataframe tbody tr th {\n",
       "        vertical-align: top;\n",
       "    }\n",
       "\n",
       "    .dataframe thead th {\n",
       "        text-align: right;\n",
       "    }\n",
       "</style>\n",
       "<table border=\"1\" class=\"dataframe\">\n",
       "  <thead>\n",
       "    <tr style=\"text-align: right;\">\n",
       "      <th></th>\n",
       "      <th>Artist</th>\n",
       "      <th>Album</th>\n",
       "    </tr>\n",
       "  </thead>\n",
       "  <tbody>\n",
       "    <tr>\n",
       "      <th>0</th>\n",
       "      <td>Krush Lumpkin</td>\n",
       "      <td>Rilascio</td>\n",
       "    </tr>\n",
       "    <tr>\n",
       "      <th>1</th>\n",
       "      <td>Raccordo Fluviale Subalpino</td>\n",
       "      <td>Raccordo Fluviale Subalpino</td>\n",
       "    </tr>\n",
       "    <tr>\n",
       "      <th>2</th>\n",
       "      <td>Dori Sorride</td>\n",
       "      <td>A Catturare I Raggi</td>\n",
       "    </tr>\n",
       "    <tr>\n",
       "      <th>3</th>\n",
       "      <td>Kinlaw &amp; Franco Franco</td>\n",
       "      <td>WAVE LED</td>\n",
       "    </tr>\n",
       "    <tr>\n",
       "      <th>4</th>\n",
       "      <td>Reptilian Expo</td>\n",
       "      <td>xperiametaphone</td>\n",
       "    </tr>\n",
       "    <tr>\n",
       "      <th>...</th>\n",
       "      <td>...</td>\n",
       "      <td>...</td>\n",
       "    </tr>\n",
       "    <tr>\n",
       "      <th>403</th>\n",
       "      <td>Sondáil</td>\n",
       "      <td>Polydial</td>\n",
       "    </tr>\n",
       "    <tr>\n",
       "      <th>404</th>\n",
       "      <td>Chris Moss Acid</td>\n",
       "      <td>Lill Chill</td>\n",
       "    </tr>\n",
       "    <tr>\n",
       "      <th>405</th>\n",
       "      <td>Wedding Acid Group</td>\n",
       "      <td>Easid Bits EP</td>\n",
       "    </tr>\n",
       "    <tr>\n",
       "      <th>406</th>\n",
       "      <td>Unknown Artists</td>\n",
       "      <td>Gomma Piuma</td>\n",
       "    </tr>\n",
       "    <tr>\n",
       "      <th>407</th>\n",
       "      <td>Sprawl + D'Arcangelo Remix</td>\n",
       "      <td>Time Tunnel</td>\n",
       "    </tr>\n",
       "  </tbody>\n",
       "</table>\n",
       "<p>408 rows × 2 columns</p>\n",
       "</div>"
      ],
      "text/plain": [
       "                           Artist                        Album\n",
       "0                  Krush Lumpkin                      Rilascio\n",
       "1    Raccordo Fluviale Subalpino   Raccordo Fluviale Subalpino\n",
       "2                   Dori Sorride           A Catturare I Raggi\n",
       "3         Kinlaw & Franco Franco                      WAVE LED\n",
       "4                 Reptilian Expo               xperiametaphone\n",
       "..                            ...                          ...\n",
       "403                     Sondáil                      Polydial\n",
       "404              Chris Moss Acid                    Lill Chill\n",
       "405           Wedding Acid Group                 Easid Bits EP\n",
       "406              Unknown Artists                   Gomma Piuma\n",
       "407   Sprawl + D'Arcangelo Remix                   Time Tunnel\n",
       "\n",
       "[408 rows x 2 columns]"
      ]
     },
     "execution_count": 56,
     "metadata": {},
     "output_type": "execute_result"
    }
   ],
   "source": [
    "df"
   ]
  },
  {
   "cell_type": "code",
   "execution_count": 57,
   "id": "c51051fc",
   "metadata": {},
   "outputs": [],
   "source": [
    "#df.to_csv(\"digital_collection.csv\")"
   ]
  },
  {
   "cell_type": "code",
   "execution_count": 59,
   "id": "f7f878cd",
   "metadata": {},
   "outputs": [
    {
     "data": {
      "text/html": [
       "<div>\n",
       "<style scoped>\n",
       "    .dataframe tbody tr th:only-of-type {\n",
       "        vertical-align: middle;\n",
       "    }\n",
       "\n",
       "    .dataframe tbody tr th {\n",
       "        vertical-align: top;\n",
       "    }\n",
       "\n",
       "    .dataframe thead th {\n",
       "        text-align: right;\n",
       "    }\n",
       "</style>\n",
       "<table border=\"1\" class=\"dataframe\">\n",
       "  <thead>\n",
       "    <tr style=\"text-align: right;\">\n",
       "      <th></th>\n",
       "      <th>Artist</th>\n",
       "      <th>Album</th>\n",
       "    </tr>\n",
       "  </thead>\n",
       "  <tbody>\n",
       "    <tr>\n",
       "      <th>105</th>\n",
       "      <td>01.zip</td>\n",
       "      <td>01</td>\n",
       "    </tr>\n",
       "    <tr>\n",
       "      <th>5</th>\n",
       "      <td>AIR Krew</td>\n",
       "      <td>A Walk Through H</td>\n",
       "    </tr>\n",
       "    <tr>\n",
       "      <th>26</th>\n",
       "      <td>Abu Ama</td>\n",
       "      <td>AM002</td>\n",
       "    </tr>\n",
       "    <tr>\n",
       "      <th>332</th>\n",
       "      <td>Addison Groove</td>\n",
       "      <td>FOOTCRAB VIP REMASTER</td>\n",
       "    </tr>\n",
       "    <tr>\n",
       "      <th>44</th>\n",
       "      <td>Adriano Cava</td>\n",
       "      <td>Transient</td>\n",
       "    </tr>\n",
       "    <tr>\n",
       "      <th>...</th>\n",
       "      <td>...</td>\n",
       "      <td>...</td>\n",
       "    </tr>\n",
       "    <tr>\n",
       "      <th>143</th>\n",
       "      <td>wzrdryAV</td>\n",
       "      <td>Midnight Visions</td>\n",
       "    </tr>\n",
       "    <tr>\n",
       "      <th>382</th>\n",
       "      <td>xxoy</td>\n",
       "      <td>Wonderland</td>\n",
       "    </tr>\n",
       "    <tr>\n",
       "      <th>370</th>\n",
       "      <td>xxoy.</td>\n",
       "      <td>Vol. 2</td>\n",
       "    </tr>\n",
       "    <tr>\n",
       "      <th>366</th>\n",
       "      <td>xxoy.</td>\n",
       "      <td>Vol. 3 by xxoy</td>\n",
       "    </tr>\n",
       "    <tr>\n",
       "      <th>125</th>\n",
       "      <td>Đ.K.</td>\n",
       "      <td>The Ancient Kingdom</td>\n",
       "    </tr>\n",
       "  </tbody>\n",
       "</table>\n",
       "<p>408 rows × 2 columns</p>\n",
       "</div>"
      ],
      "text/plain": [
       "              Artist                  Album\n",
       "105           01.zip                     01\n",
       "5          AIR Krew        A Walk Through H\n",
       "26          Abu Ama                   AM002\n",
       "332  Addison Groove   FOOTCRAB VIP REMASTER\n",
       "44     Adriano Cava               Transient\n",
       "..               ...                    ...\n",
       "143        wzrdryAV        Midnight Visions\n",
       "382            xxoy              Wonderland\n",
       "370           xxoy.                  Vol. 2\n",
       "366           xxoy.          Vol. 3 by xxoy\n",
       "125            Đ.K.     The Ancient Kingdom\n",
       "\n",
       "[408 rows x 2 columns]"
      ]
     },
     "execution_count": 59,
     "metadata": {},
     "output_type": "execute_result"
    }
   ],
   "source": [
    "df.sort_values(\"Artist\")"
   ]
  },
  {
   "cell_type": "code",
   "execution_count": 60,
   "id": "209fe830",
   "metadata": {},
   "outputs": [],
   "source": [
    "df.to_csv(\"digital_collection.csv\")"
   ]
  },
  {
   "cell_type": "code",
   "execution_count": 14,
   "id": "c336cd94",
   "metadata": {},
   "outputs": [
    {
     "name": "stdout",
     "output_type": "stream",
     "text": [
      "Mina, Bryte, King Doudou - Mina ft. Bryte - Sentah (King Doudou Baile Funk Mix).mp3\n"
     ]
    }
   ],
   "source": [
    "import glob\n",
    "import os\n",
    "\n",
    "root_dir = \"/Users/aniel/Rekordbox_database/\"\n",
    "# root_dir needs a trailing slash (i.e. /root/dir/)\n",
    "for filename in glob.iglob(root_dir + '**/*.mp3', recursive=True):\n",
    "    print(os.path.basename(filename))\n",
    "    break"
   ]
  },
  {
   "cell_type": "code",
   "execution_count": 15,
   "id": "b92e8aa1",
   "metadata": {},
   "outputs": [],
   "source": [
    "tracks = pd.Series([os.path.basename(filename) for filename in glob.iglob(root_dir + '**/*.mp3', recursive=True)])"
   ]
  },
  {
   "cell_type": "code",
   "execution_count": 16,
   "id": "1095bd14",
   "metadata": {},
   "outputs": [
    {
     "data": {
      "text/plain": [
       "0       Mina, Bryte, King Doudou - Mina ft. Bryte - Se...\n",
       "1                             Motion Ward - Perpetual.mp3\n",
       "2           Cassius Select - IF YOU DO A LITTLE DANCE.mp3\n",
       "3                               Pugilist - Intentions.mp3\n",
       "4                                Loefah - Horror Show.mp3\n",
       "                              ...                        \n",
       "1911    EGOLESS - Solidarity in Dub - 04 Cool Down the...\n",
       "1912    EGOLESS - Solidarity in Dub - 07 Non-Immigrant...\n",
       "1913    EGOLESS - Solidarity in Dub - 03 Cool Down the...\n",
       "1914    Pugilist - Pugilist & Another Channel - Fight ...\n",
       "1915    Pugilist - Pugilist & Another Channel - Fight ...\n",
       "Length: 1916, dtype: object"
      ]
     },
     "execution_count": 16,
     "metadata": {},
     "output_type": "execute_result"
    }
   ],
   "source": [
    "tracks"
   ]
  },
  {
   "cell_type": "code",
   "execution_count": 17,
   "id": "e19a61a2",
   "metadata": {},
   "outputs": [],
   "source": [
    "import pandas as pd\n",
    "\n",
    "df_tracks = pd.DataFrame({\"Artist\": tracks.map(lambda x: (x.split(\"-\")[0])), \"Album\": tracks.map(lambda x: (x.split(\"-\")[-1][:-4].strip()))})"
   ]
  },
  {
   "cell_type": "code",
   "execution_count": 18,
   "id": "7ab4cff7",
   "metadata": {},
   "outputs": [
    {
     "data": {
      "text/html": [
       "<div>\n",
       "<style scoped>\n",
       "    .dataframe tbody tr th:only-of-type {\n",
       "        vertical-align: middle;\n",
       "    }\n",
       "\n",
       "    .dataframe tbody tr th {\n",
       "        vertical-align: top;\n",
       "    }\n",
       "\n",
       "    .dataframe thead th {\n",
       "        text-align: right;\n",
       "    }\n",
       "</style>\n",
       "<table border=\"1\" class=\"dataframe\">\n",
       "  <thead>\n",
       "    <tr style=\"text-align: right;\">\n",
       "      <th></th>\n",
       "      <th>Artist</th>\n",
       "      <th>Album</th>\n",
       "    </tr>\n",
       "  </thead>\n",
       "  <tbody>\n",
       "    <tr>\n",
       "      <th>0</th>\n",
       "      <td>Mina, Bryte, King Doudou</td>\n",
       "      <td>Sentah (King Doudou Baile Funk Mix)</td>\n",
       "    </tr>\n",
       "    <tr>\n",
       "      <th>1</th>\n",
       "      <td>Motion Ward</td>\n",
       "      <td>Perpetual</td>\n",
       "    </tr>\n",
       "    <tr>\n",
       "      <th>2</th>\n",
       "      <td>Cassius Select</td>\n",
       "      <td>IF YOU DO A LITTLE DANCE</td>\n",
       "    </tr>\n",
       "    <tr>\n",
       "      <th>3</th>\n",
       "      <td>Pugilist</td>\n",
       "      <td>Intentions</td>\n",
       "    </tr>\n",
       "    <tr>\n",
       "      <th>4</th>\n",
       "      <td>Loefah</td>\n",
       "      <td>Horror Show</td>\n",
       "    </tr>\n",
       "  </tbody>\n",
       "</table>\n",
       "</div>"
      ],
      "text/plain": [
       "                      Artist                                Album\n",
       "0  Mina, Bryte, King Doudou   Sentah (King Doudou Baile Funk Mix)\n",
       "1               Motion Ward                             Perpetual\n",
       "2            Cassius Select              IF YOU DO A LITTLE DANCE\n",
       "3                  Pugilist                            Intentions\n",
       "4                    Loefah                           Horror Show"
      ]
     },
     "execution_count": 18,
     "metadata": {},
     "output_type": "execute_result"
    }
   ],
   "source": [
    "df_tracks.head()"
   ]
  },
  {
   "cell_type": "code",
   "execution_count": 13,
   "id": "48c5793a",
   "metadata": {},
   "outputs": [],
   "source": [
    "df_tracks.to_csv(\"tracks.csv\")"
   ]
  },
  {
   "cell_type": "code",
   "execution_count": 19,
   "id": "eb900a9b",
   "metadata": {},
   "outputs": [
    {
     "data": {
      "text/html": [
       "<div>\n",
       "<style scoped>\n",
       "    .dataframe tbody tr th:only-of-type {\n",
       "        vertical-align: middle;\n",
       "    }\n",
       "\n",
       "    .dataframe tbody tr th {\n",
       "        vertical-align: top;\n",
       "    }\n",
       "\n",
       "    .dataframe thead th {\n",
       "        text-align: right;\n",
       "    }\n",
       "</style>\n",
       "<table border=\"1\" class=\"dataframe\">\n",
       "  <thead>\n",
       "    <tr style=\"text-align: right;\">\n",
       "      <th></th>\n",
       "      <th>Artist</th>\n",
       "      <th>Album</th>\n",
       "    </tr>\n",
       "  </thead>\n",
       "  <tbody>\n",
       "    <tr>\n",
       "      <th>855</th>\n",
       "      <td>Piezo</td>\n",
       "      <td>04 Rash</td>\n",
       "    </tr>\n",
       "    <tr>\n",
       "      <th>1024</th>\n",
       "      <td>Eben Bull</td>\n",
       "      <td>08 Geology (Digital only)</td>\n",
       "    </tr>\n",
       "    <tr>\n",
       "      <th>630</th>\n",
       "      <td>Walton</td>\n",
       "      <td>02 Taiko</td>\n",
       "    </tr>\n",
       "    <tr>\n",
       "      <th>1569</th>\n",
       "      <td>Bokeh Allstars</td>\n",
       "      <td>My Perception</td>\n",
       "    </tr>\n",
       "    <tr>\n",
       "      <th>1907</th>\n",
       "      <td>EGOLESS</td>\n",
       "      <td>06 Yërmënde (Dub Mix)</td>\n",
       "    </tr>\n",
       "    <tr>\n",
       "      <th>586</th>\n",
       "      <td>John T. Gast</td>\n",
       "      <td>05 MANC TK 2</td>\n",
       "    </tr>\n",
       "    <tr>\n",
       "      <th>963</th>\n",
       "      <td>Memotone</td>\n",
       "      <td>Off Earth</td>\n",
       "    </tr>\n",
       "    <tr>\n",
       "      <th>885</th>\n",
       "      <td>NKC</td>\n",
       "      <td>03 BTD150</td>\n",
       "    </tr>\n",
       "    <tr>\n",
       "      <th>136</th>\n",
       "      <td>Mala</td>\n",
       "      <td>02 New Life (Baby Paris)</td>\n",
       "    </tr>\n",
       "    <tr>\n",
       "      <th>1356</th>\n",
       "      <td>Huerco S.</td>\n",
       "      <td>03 Plonk III</td>\n",
       "    </tr>\n",
       "    <tr>\n",
       "      <th>1169</th>\n",
       "      <td>Via Maris</td>\n",
       "      <td>02 CU2</td>\n",
       "    </tr>\n",
       "    <tr>\n",
       "      <th>1140</th>\n",
       "      <td>Notte Brigante</td>\n",
       "      <td>Clope Sucrée</td>\n",
       "    </tr>\n",
       "    <tr>\n",
       "      <th>666</th>\n",
       "      <td>Autumns</td>\n",
       "      <td>02 Having It</td>\n",
       "    </tr>\n",
       "    <tr>\n",
       "      <th>1804</th>\n",
       "      <td>O$VMV$M</td>\n",
       "      <td>25 Kings</td>\n",
       "    </tr>\n",
       "    <tr>\n",
       "      <th>438</th>\n",
       "      <td>Aldrich</td>\n",
       "      <td>05 Revenge</td>\n",
       "    </tr>\n",
       "    <tr>\n",
       "      <th>741</th>\n",
       "      <td>V</td>\n",
       "      <td>Distopia</td>\n",
       "    </tr>\n",
       "    <tr>\n",
       "      <th>1549</th>\n",
       "      <td>Dentis</td>\n",
       "      <td>02 90's Bohemian Rave</td>\n",
       "    </tr>\n",
       "    <tr>\n",
       "      <th>587</th>\n",
       "      <td>Mael</td>\n",
       "      <td>07 Division</td>\n",
       "    </tr>\n",
       "    <tr>\n",
       "      <th>273</th>\n",
       "      <td>Group Zero</td>\n",
       "      <td>02 Memorial Device</td>\n",
       "    </tr>\n",
       "    <tr>\n",
       "      <th>425</th>\n",
       "      <td>Bad Tracking</td>\n",
       "      <td>03 Banned From Motion</td>\n",
       "    </tr>\n",
       "    <tr>\n",
       "      <th>609</th>\n",
       "      <td>Big Hands</td>\n",
       "      <td>03 Louis H. Theme</td>\n",
       "    </tr>\n",
       "    <tr>\n",
       "      <th>61</th>\n",
       "      <td>Tammo Hesselink</td>\n",
       "      <td>It Is Easy To See</td>\n",
       "    </tr>\n",
       "    <tr>\n",
       "      <th>1052</th>\n",
       "      <td>Four Tet</td>\n",
       "      <td>11 Memories</td>\n",
       "    </tr>\n",
       "    <tr>\n",
       "      <th>259</th>\n",
       "      <td>Secret Rave</td>\n",
       "      <td>Untitled 02 (Rivet Remix)</td>\n",
       "    </tr>\n",
       "    <tr>\n",
       "      <th>213</th>\n",
       "      <td>rkeat.</td>\n",
       "      <td>01 world</td>\n",
       "    </tr>\n",
       "  </tbody>\n",
       "</table>\n",
       "</div>"
      ],
      "text/plain": [
       "                Artist                      Album\n",
       "855             Piezo                     04 Rash\n",
       "1024        Eben Bull   08 Geology (Digital only)\n",
       "630            Walton                    02 Taiko\n",
       "1569   Bokeh Allstars               My Perception\n",
       "1907          EGOLESS     06 Yërmënde (Dub Mix)\n",
       "586      John T. Gast                05 MANC TK 2\n",
       "963          Memotone                   Off Earth\n",
       "885               NKC                   03 BTD150\n",
       "136              Mala    02 New Life (Baby Paris)\n",
       "1356        Huerco S.                03 Plonk III\n",
       "1169        Via Maris                      02 CU2\n",
       "1140   Notte Brigante               Clope Sucrée\n",
       "666           Autumns                02 Having It\n",
       "1804          O$VMV$M                    25 Kings\n",
       "438           Aldrich                  05 Revenge\n",
       "741                  V                   Distopia\n",
       "1549           Dentis       02 90's Bohemian Rave\n",
       "587              Mael                 07 Division\n",
       "273        Group Zero          02 Memorial Device\n",
       "425      Bad Tracking       03 Banned From Motion\n",
       "609         Big Hands           03 Louis H. Theme\n",
       "61    Tammo Hesselink           It Is Easy To See\n",
       "1052         Four Tet                 11 Memories\n",
       "259       Secret Rave   Untitled 02 (Rivet Remix)\n",
       "213            rkeat.                    01 world"
      ]
     },
     "execution_count": 19,
     "metadata": {},
     "output_type": "execute_result"
    }
   ],
   "source": [
    "df_tracks.sample(25)"
   ]
  },
  {
   "cell_type": "code",
   "execution_count": null,
   "id": "341bc4b4",
   "metadata": {},
   "outputs": [],
   "source": []
  }
 ],
 "metadata": {
  "kernelspec": {
   "display_name": "Python 3.10.4 ('tracklist_explorer')",
   "language": "python",
   "name": "python3"
  },
  "language_info": {
   "codemirror_mode": {
    "name": "ipython",
    "version": 3
   },
   "file_extension": ".py",
   "mimetype": "text/x-python",
   "name": "python",
   "nbconvert_exporter": "python",
   "pygments_lexer": "ipython3",
   "version": "3.10.4"
  },
  "vscode": {
   "interpreter": {
    "hash": "170203738516453d27774a514b73edb03d1f5555fde567d2557abff01c1e9fc9"
   }
  }
 },
 "nbformat": 4,
 "nbformat_minor": 5
}
