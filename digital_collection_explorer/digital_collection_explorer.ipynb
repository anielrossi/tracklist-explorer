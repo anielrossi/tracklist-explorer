{
 "cells": [
  {
   "cell_type": "code",
   "execution_count": 1,
   "id": "c208d854",
   "metadata": {},
   "outputs": [],
   "source": [
    "from os import listdir\n",
    "from os.path import isfile, join\n",
    "\n",
    "mypath = \"/Volumes/TOSHIBA/Rekordbox_database\"\n",
    "\n",
    "files = [f for f in listdir(mypath) if not (f).startswith(\".\")]"
   ]
  },
  {
   "cell_type": "code",
   "execution_count": 2,
   "metadata": {},
   "outputs": [],
   "source": [
    "import requests\n",
    "import discogs_client\n",
    "d = discogs_client.Client('tracklist_explorer', user_token='TQnLrfoPbUSIPjrwWqIkZSkuJczEwsHtQXbdegwL')"
   ]
  },
  {
   "cell_type": "code",
   "execution_count": 3,
   "id": "a8cb7c5b",
   "metadata": {},
   "outputs": [],
   "source": [
    "import pandas as pd\n",
    "\n",
    "df = pd.DataFrame(files, columns=[\"title\"])"
   ]
  },
  {
   "cell_type": "code",
   "execution_count": 4,
   "id": "28f052d2",
   "metadata": {},
   "outputs": [
    {
     "data": {
      "text/html": [
       "<div>\n",
       "<style scoped>\n",
       "    .dataframe tbody tr th:only-of-type {\n",
       "        vertical-align: middle;\n",
       "    }\n",
       "\n",
       "    .dataframe tbody tr th {\n",
       "        vertical-align: top;\n",
       "    }\n",
       "\n",
       "    .dataframe thead th {\n",
       "        text-align: right;\n",
       "    }\n",
       "</style>\n",
       "<table border=\"1\" class=\"dataframe\">\n",
       "  <thead>\n",
       "    <tr style=\"text-align: right;\">\n",
       "      <th></th>\n",
       "      <th>title</th>\n",
       "    </tr>\n",
       "  </thead>\n",
       "  <tbody>\n",
       "    <tr>\n",
       "      <th>0</th>\n",
       "      <td>SPIRINET - ENERGY FORMULA -KHT007</td>\n",
       "    </tr>\n",
       "    <tr>\n",
       "      <th>1</th>\n",
       "      <td>Babe Roots feat Kojo Neatness - Be Still - Raw...</td>\n",
       "    </tr>\n",
       "    <tr>\n",
       "      <th>2</th>\n",
       "      <td>CASH FROM HASH - CASH FROM HASH - AXON</td>\n",
       "    </tr>\n",
       "    <tr>\n",
       "      <th>3</th>\n",
       "      <td>Jay Glass Dubs - Epitaph</td>\n",
       "    </tr>\n",
       "    <tr>\n",
       "      <th>4</th>\n",
       "      <td>Mina, Bryte, King Doudou - Mina ft. Bryte - Se...</td>\n",
       "    </tr>\n",
       "    <tr>\n",
       "      <th>...</th>\n",
       "      <td>...</td>\n",
       "    </tr>\n",
       "    <tr>\n",
       "      <th>648</th>\n",
       "      <td>Squito Babe - Palombaro [Explicit]</td>\n",
       "    </tr>\n",
       "    <tr>\n",
       "      <th>649</th>\n",
       "      <td>RSD-Corner_Dub_(Blue_and_Red_Mix)_&amp;_Pretty_Bri...</td>\n",
       "    </tr>\n",
       "    <tr>\n",
       "      <th>650</th>\n",
       "      <td>Minor Science - Whities 008 [Ep] (2016)</td>\n",
       "    </tr>\n",
       "    <tr>\n",
       "      <th>651</th>\n",
       "      <td>(1997) Dj Jubilee - Eternal Dark (Unknown Grou...</td>\n",
       "    </tr>\n",
       "    <tr>\n",
       "      <th>652</th>\n",
       "      <td>Only Now - Only Now Presents- Indian Unclassic...</td>\n",
       "    </tr>\n",
       "  </tbody>\n",
       "</table>\n",
       "<p>653 rows × 1 columns</p>\n",
       "</div>"
      ],
      "text/plain": [
       "                                                 title\n",
       "0                    SPIRINET - ENERGY FORMULA -KHT007\n",
       "1    Babe Roots feat Kojo Neatness - Be Still - Raw...\n",
       "2               CASH FROM HASH - CASH FROM HASH - AXON\n",
       "3                             Jay Glass Dubs - Epitaph\n",
       "4    Mina, Bryte, King Doudou - Mina ft. Bryte - Se...\n",
       "..                                                 ...\n",
       "648                 Squito Babe - Palombaro [Explicit]\n",
       "649  RSD-Corner_Dub_(Blue_and_Red_Mix)_&_Pretty_Bri...\n",
       "650            Minor Science - Whities 008 [Ep] (2016)\n",
       "651  (1997) Dj Jubilee - Eternal Dark (Unknown Grou...\n",
       "652  Only Now - Only Now Presents- Indian Unclassic...\n",
       "\n",
       "[653 rows x 1 columns]"
      ]
     },
     "execution_count": 4,
     "metadata": {},
     "output_type": "execute_result"
    }
   ],
   "source": [
    "df"
   ]
  },
  {
   "cell_type": "code",
   "execution_count": 5,
   "metadata": {},
   "outputs": [],
   "source": [
    "import re"
   ]
  },
  {
   "cell_type": "code",
   "execution_count": 6,
   "metadata": {},
   "outputs": [],
   "source": [
    "df[\"title\"] = [x[:-4] if x.endswith(\".mp3\") else x for x in df[\"title\"]]\n",
    "df[\"title\"] = [x.replace(\"feat\", \"\") for x in df[\"title\"]]\n",
    "df[\"title\"] = [x.replace(\"'\", \"\") for x in df[\"title\"]]\n",
    "df[\"title\"] = [x.replace(\"\\\"\", \"\") for x in df[\"title\"]]\n",
    "df[\"title\"] = [x.replace(\"-\", \" \") for x in df[\"title\"]]\n",
    "df[\"title\"] = [x.replace(\"_\", \" \") for x in df[\"title\"]]\n",
    "df[\"title\"] = [x.replace(\"&\", \" \") for x in df[\"title\"]]\n",
    "df[\"title\"] = [re.sub(\"[\\(\\[].*?[\\)\\]]\", \"\", x) for x in df[\"title\"]]"
   ]
  },
  {
   "cell_type": "code",
   "execution_count": 7,
   "metadata": {},
   "outputs": [
    {
     "data": {
      "text/html": [
       "<div>\n",
       "<style scoped>\n",
       "    .dataframe tbody tr th:only-of-type {\n",
       "        vertical-align: middle;\n",
       "    }\n",
       "\n",
       "    .dataframe tbody tr th {\n",
       "        vertical-align: top;\n",
       "    }\n",
       "\n",
       "    .dataframe thead th {\n",
       "        text-align: right;\n",
       "    }\n",
       "</style>\n",
       "<table border=\"1\" class=\"dataframe\">\n",
       "  <thead>\n",
       "    <tr style=\"text-align: right;\">\n",
       "      <th></th>\n",
       "      <th>title</th>\n",
       "    </tr>\n",
       "  </thead>\n",
       "  <tbody>\n",
       "    <tr>\n",
       "      <th>0</th>\n",
       "      <td>SPIRINET   ENERGY FORMULA  KHT007</td>\n",
       "    </tr>\n",
       "    <tr>\n",
       "      <th>1</th>\n",
       "      <td>Babe Roots  Kojo Neatness   Be Still   Rawness</td>\n",
       "    </tr>\n",
       "    <tr>\n",
       "      <th>2</th>\n",
       "      <td>CASH FROM HASH   CASH FROM HASH   AXON</td>\n",
       "    </tr>\n",
       "    <tr>\n",
       "      <th>3</th>\n",
       "      <td>Jay Glass Dubs   Epitaph</td>\n",
       "    </tr>\n",
       "    <tr>\n",
       "      <th>4</th>\n",
       "      <td>Mina, Bryte, King Doudou   Mina ft. Bryte   Se...</td>\n",
       "    </tr>\n",
       "    <tr>\n",
       "      <th>...</th>\n",
       "      <td>...</td>\n",
       "    </tr>\n",
       "    <tr>\n",
       "      <th>648</th>\n",
       "      <td>Squito Babe   Palombaro</td>\n",
       "    </tr>\n",
       "    <tr>\n",
       "      <th>649</th>\n",
       "      <td>RSD Corner Dub    Pretty Bright Light</td>\n",
       "    </tr>\n",
       "    <tr>\n",
       "      <th>650</th>\n",
       "      <td>Minor Science   Whities 008</td>\n",
       "    </tr>\n",
       "    <tr>\n",
       "      <th>651</th>\n",
       "      <td>Dj Jubilee   Eternal Dark</td>\n",
       "    </tr>\n",
       "    <tr>\n",
       "      <th>652</th>\n",
       "      <td>Only Now   Only Now Presents  Indian Unclassic...</td>\n",
       "    </tr>\n",
       "  </tbody>\n",
       "</table>\n",
       "<p>653 rows × 1 columns</p>\n",
       "</div>"
      ],
      "text/plain": [
       "                                                 title\n",
       "0                    SPIRINET   ENERGY FORMULA  KHT007\n",
       "1       Babe Roots  Kojo Neatness   Be Still   Rawness\n",
       "2               CASH FROM HASH   CASH FROM HASH   AXON\n",
       "3                             Jay Glass Dubs   Epitaph\n",
       "4    Mina, Bryte, King Doudou   Mina ft. Bryte   Se...\n",
       "..                                                 ...\n",
       "648                           Squito Babe   Palombaro \n",
       "649             RSD Corner Dub    Pretty Bright Light \n",
       "650                      Minor Science   Whities 008  \n",
       "651                         Dj Jubilee   Eternal Dark \n",
       "652  Only Now   Only Now Presents  Indian Unclassic...\n",
       "\n",
       "[653 rows x 1 columns]"
      ]
     },
     "execution_count": 7,
     "metadata": {},
     "output_type": "execute_result"
    }
   ],
   "source": [
    "df"
   ]
  },
  {
   "cell_type": "code",
   "execution_count": 8,
   "metadata": {},
   "outputs": [],
   "source": [
    "df.to_csv(\"df_clean_titles.csv\")"
   ]
  },
  {
   "cell_type": "markdown",
   "metadata": {},
   "source": [
    "works with single tracks as well"
   ]
  },
  {
   "cell_type": "code",
   "execution_count": 9,
   "metadata": {},
   "outputs": [],
   "source": [
    "release = d.search('Clara! y Maoupa - Truenos', type='release')[0]"
   ]
  },
  {
   "cell_type": "code",
   "execution_count": 10,
   "metadata": {},
   "outputs": [
    {
     "data": {
      "text/plain": [
       "['Experimental', 'Reggaeton']"
      ]
     },
     "execution_count": 10,
     "metadata": {},
     "output_type": "execute_result"
    }
   ],
   "source": [
    "release.styles"
   ]
  },
  {
   "cell_type": "code",
   "execution_count": 11,
   "metadata": {},
   "outputs": [],
   "source": [
    "styles = []\n",
    "genres = [] \n",
    "for idx,i in df.iterrows():\n",
    "    try:\n",
    "        release = d.search(i[\"title\"], type='release')[0]\n",
    "        styles.append(release.styles)\n",
    "        genres.append(release.genres)\n",
    "    except:\n",
    "        styles.append(\"error\")\n",
    "        genres.append(\"error\")"
   ]
  },
  {
   "cell_type": "code",
   "execution_count": 12,
   "metadata": {},
   "outputs": [],
   "source": [
    "df[\"style\"] = styles\n",
    "df[\"genres\"] = genres"
   ]
  },
  {
   "cell_type": "code",
   "execution_count": 13,
   "metadata": {},
   "outputs": [],
   "source": [
    "df.to_csv(\"df.csv\")"
   ]
  },
  {
   "cell_type": "code",
   "execution_count": 14,
   "metadata": {},
   "outputs": [
    {
     "data": {
      "text/plain": [
       "error                                             119\n",
       "[Techno]                                           34\n",
       "[Dubstep]                                          34\n",
       "[House]                                            11\n",
       "[Experimental]                                      7\n",
       "                                                 ... \n",
       "[Electro, Techno, Industrial, Acid, Breakbeat]      1\n",
       "[Bass Music, House]                                 1\n",
       "[Grime, Dub Techno, Breaks, Leftfield]              1\n",
       "[Downtempo, EBM, Dub]                               1\n",
       "[Experimental, Glitch]                              1\n",
       "Name: style, Length: 352, dtype: int64"
      ]
     },
     "execution_count": 14,
     "metadata": {},
     "output_type": "execute_result"
    }
   ],
   "source": [
    "df[\"style\"].value_counts()"
   ]
  },
  {
   "cell_type": "code",
   "execution_count": 15,
   "metadata": {},
   "outputs": [],
   "source": [
    "errors = df[df[\"style\"] == \"error\"]"
   ]
  },
  {
   "cell_type": "code",
   "execution_count": 16,
   "metadata": {},
   "outputs": [
    {
     "data": {
      "text/plain": [
       "119"
      ]
     },
     "execution_count": 16,
     "metadata": {},
     "output_type": "execute_result"
    }
   ],
   "source": [
    "len(errors)"
   ]
  },
  {
   "cell_type": "code",
   "execution_count": 17,
   "metadata": {},
   "outputs": [],
   "source": [
    "errors.to_csv(\"errors.csv\")"
   ]
  },
  {
   "cell_type": "code",
   "execution_count": 81,
   "metadata": {},
   "outputs": [
    {
     "data": {
      "text/html": [
       "<div>\n",
       "<style scoped>\n",
       "    .dataframe tbody tr th:only-of-type {\n",
       "        vertical-align: middle;\n",
       "    }\n",
       "\n",
       "    .dataframe tbody tr th {\n",
       "        vertical-align: top;\n",
       "    }\n",
       "\n",
       "    .dataframe thead th {\n",
       "        text-align: right;\n",
       "    }\n",
       "</style>\n",
       "<table border=\"1\" class=\"dataframe\">\n",
       "  <thead>\n",
       "    <tr style=\"text-align: right;\">\n",
       "      <th></th>\n",
       "      <th>title</th>\n",
       "      <th>style</th>\n",
       "    </tr>\n",
       "  </thead>\n",
       "  <tbody>\n",
       "    <tr>\n",
       "      <th>1</th>\n",
       "      <td>Babe Roots  Kojo Neatness - Be Still - Rawness</td>\n",
       "      <td>Error</td>\n",
       "    </tr>\n",
       "    <tr>\n",
       "      <th>2</th>\n",
       "      <td>CASH FROM HASH - CASH FROM HASH - AXON</td>\n",
       "      <td>Error</td>\n",
       "    </tr>\n",
       "    <tr>\n",
       "      <th>4</th>\n",
       "      <td>Mina, Bryte, King Doudou - Mina ft. Bryte - Se...</td>\n",
       "      <td>Error</td>\n",
       "    </tr>\n",
       "    <tr>\n",
       "      <th>7</th>\n",
       "      <td>scopeotaku_4040_d</td>\n",
       "      <td>Error</td>\n",
       "    </tr>\n",
       "    <tr>\n",
       "      <th>11</th>\n",
       "      <td>King Doudou - Toa</td>\n",
       "      <td>Error</td>\n",
       "    </tr>\n",
       "    <tr>\n",
       "      <th>...</th>\n",
       "      <td>...</td>\n",
       "      <td>...</td>\n",
       "    </tr>\n",
       "    <tr>\n",
       "      <th>651</th>\n",
       "      <td>Loop_LF--Natural_XT_EP-WSRLF2-WEB-2019-BABAS</td>\n",
       "      <td>Error</td>\n",
       "    </tr>\n",
       "    <tr>\n",
       "      <th>652</th>\n",
       "      <td>ArtSaves - Home Is Where the Hatred Is</td>\n",
       "      <td>Error</td>\n",
       "    </tr>\n",
       "    <tr>\n",
       "      <th>654</th>\n",
       "      <td>Abu AMA - INTERNATiONAL ROKKAZ</td>\n",
       "      <td>Error</td>\n",
       "    </tr>\n",
       "    <tr>\n",
       "      <th>658</th>\n",
       "      <td>Little Artist - CANCEL COPENHAGEN - 01 Cancel ...</td>\n",
       "      <td>Error</td>\n",
       "    </tr>\n",
       "    <tr>\n",
       "      <th>659</th>\n",
       "      <td>Only Now - Only Now Presents- Indian Unclassic...</td>\n",
       "      <td>Error</td>\n",
       "    </tr>\n",
       "  </tbody>\n",
       "</table>\n",
       "<p>245 rows × 2 columns</p>\n",
       "</div>"
      ],
      "text/plain": [
       "                                                 title  style\n",
       "1       Babe Roots  Kojo Neatness - Be Still - Rawness  Error\n",
       "2               CASH FROM HASH - CASH FROM HASH - AXON  Error\n",
       "4    Mina, Bryte, King Doudou - Mina ft. Bryte - Se...  Error\n",
       "7                                    scopeotaku_4040_d  Error\n",
       "11                                   King Doudou - Toa  Error\n",
       "..                                                 ...    ...\n",
       "651       Loop_LF--Natural_XT_EP-WSRLF2-WEB-2019-BABAS  Error\n",
       "652             ArtSaves - Home Is Where the Hatred Is  Error\n",
       "654                     Abu AMA - INTERNATiONAL ROKKAZ  Error\n",
       "658  Little Artist - CANCEL COPENHAGEN - 01 Cancel ...  Error\n",
       "659  Only Now - Only Now Presents- Indian Unclassic...  Error\n",
       "\n",
       "[245 rows x 2 columns]"
      ]
     },
     "execution_count": 81,
     "metadata": {},
     "output_type": "execute_result"
    }
   ],
   "source": [
    "df.loc[errors.index].drop(\"clean_title\", axis=1)"
   ]
  },
  {
   "cell_type": "code",
   "execution_count": 82,
   "metadata": {},
   "outputs": [],
   "source": [
    "styles = []\n",
    "genres = [] \n",
    "for idx,i in df.loc[errors.index].iterrows():\n",
    "    try:\n",
    "        release = d.search(i[\"title\"], type='release')[0]\n",
    "        styles.append(release.styles)\n",
    "        genres.append(release.genres)\n",
    "    except:\n",
    "        styles.append(\"release not found\")\n",
    "        genres.append(\"release not found\")"
   ]
  }
 ],
 "metadata": {
  "kernelspec": {
   "display_name": "Python 3.10.4 ('tracklist_explorer')",
   "language": "python",
   "name": "python3"
  },
  "language_info": {
   "codemirror_mode": {
    "name": "ipython",
    "version": 3
   },
   "file_extension": ".py",
   "mimetype": "text/x-python",
   "name": "python",
   "nbconvert_exporter": "python",
   "pygments_lexer": "ipython3",
   "version": "3.10.4"
  },
  "vscode": {
   "interpreter": {
    "hash": "170203738516453d27774a514b73edb03d1f5555fde567d2557abff01c1e9fc9"
   }
  }
 },
 "nbformat": 4,
 "nbformat_minor": 5
}
