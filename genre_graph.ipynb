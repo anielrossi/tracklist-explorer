{
 "cells": [
  {
   "cell_type": "code",
   "execution_count": 55,
   "id": "ace07706",
   "metadata": {},
   "outputs": [],
   "source": [
    "from pyvis.network import Network\n",
    "import json\n",
    "\n",
    "f = open('only_sindrome/episodes_per_style.json')\n",
    "  \n",
    "# returns JSON object as \n",
    "# a dictionary\n",
    "data = json.load(f)"
   ]
  },
  {
   "cell_type": "code",
   "execution_count": 56,
   "id": "1b889e9e",
   "metadata": {},
   "outputs": [],
   "source": [
    "net = Network(height='100%', width='100%', bgcolor='#222222', font_color='white')\n",
    "#net.barnes_hut()"
   ]
  },
  {
   "cell_type": "code",
   "execution_count": 57,
   "id": "6c3e2f9e",
   "metadata": {},
   "outputs": [],
   "source": [
    "for idx,key in enumerate(data):\n",
    "    net.add_node(key, label=key)\n",
    "    #net.add_edge(0,1)"
   ]
  },
  {
   "cell_type": "code",
   "execution_count": 58,
   "id": "731efeb2",
   "metadata": {},
   "outputs": [
    {
     "name": "stdout",
     "output_type": "stream",
     "text": [
      "['Abstract', 'Ambient', 'Breakbeat', 'Breaks', 'Dancehall', 'Downtempo', 'Dub', 'Dubstep', 'Electro', 'Experimental', 'Gqom', 'Grime', 'House', 'IDM', 'Industrial', 'Leftfield', 'Noise', 'Reggae', 'Roots Reggae', 'Techno', 'Tribal']\n"
     ]
    }
   ],
   "source": [
    "genres_nodes = net.get_nodes().copy()\n",
    "print(genres_nodes)"
   ]
  },
  {
   "cell_type": "code",
   "execution_count": 59,
   "id": "9d8393fc",
   "metadata": {},
   "outputs": [
    {
     "name": "stdout",
     "output_type": "stream",
     "text": [
      "Abstract\n",
      "Ambient\n",
      "Breakbeat\n",
      "Breaks\n",
      "Dancehall\n",
      "Downtempo\n",
      "Dub\n",
      "Dubstep\n",
      "Electro\n",
      "Experimental\n",
      "Gqom\n",
      "Grime\n",
      "House\n",
      "IDM\n",
      "Industrial\n",
      "Leftfield\n",
      "Noise\n",
      "Reggae\n",
      "Roots Reggae\n",
      "Techno\n",
      "Tribal\n"
     ]
    }
   ],
   "source": [
    "for node in genres_nodes:\n",
    "    print(node)\n",
    "    for episode in data[node]:\n",
    "        net.add_node(episode, label='#' + episode.split(\"-\")[-1], title=\"<link '\" + episode + \"' />\", color=['#F3FF33'])\n",
    "        net.add_edge(node, episode)"
   ]
  },
  {
   "cell_type": "code",
   "execution_count": 60,
   "id": "66f49800",
   "metadata": {},
   "outputs": [
    {
     "data": {
      "text/plain": [
       "['Abstract',\n",
       " 'Ambient',\n",
       " 'Breakbeat',\n",
       " 'Breaks',\n",
       " 'Dancehall',\n",
       " 'Downtempo',\n",
       " 'Dub',\n",
       " 'Dubstep',\n",
       " 'Electro',\n",
       " 'Experimental',\n",
       " 'Gqom',\n",
       " 'Grime',\n",
       " 'House',\n",
       " 'IDM',\n",
       " 'Industrial',\n",
       " 'Leftfield',\n",
       " 'Noise',\n",
       " 'Reggae',\n",
       " 'Roots Reggae',\n",
       " 'Techno',\n",
       " 'Tribal',\n",
       " 'https://soundcloud.com/aniel-rossi/k-with-sindrome-20',\n",
       " 'https://soundcloud.com/aniel-rossi/k-with-sindrome-9',\n",
       " 'https://soundcloud.com/aniel-rossi/k-with-sindrome-11',\n",
       " 'https://soundcloud.com/aniel-rossi/k-with-sindrome-8',\n",
       " 'https://soundcloud.com/aniel-rossi/k-with-sindrome-16',\n",
       " 'https://soundcloud.com/aniel-rossi/k-with-sindrome-17',\n",
       " 'https://soundcloud.com/aniel-rossi/k-with-sindrome-18',\n",
       " 'https://soundcloud.com/aniel-rossi/k-with-sindrome-1',\n",
       " 'https://soundcloud.com/aniel-rossi/k-with-sindrome-5',\n",
       " 'https://soundcloud.com/aniel-rossi/k-with-sindrome-19',\n",
       " 'https://soundcloud.com/aniel-rossi/k-with-sindrome-14',\n",
       " 'https://soundcloud.com/aniel-rossi/k-with-sindrome-6',\n",
       " 'https://soundcloud.com/aniel-rossi/k-with-sindrome-4',\n",
       " 'https://soundcloud.com/aniel-rossi/k-with-sindrome-2',\n",
       " 'https://soundcloud.com/aniel-rossi/k-with-sindrome-10',\n",
       " 'https://soundcloud.com/aniel-rossi/k-with-sindrome-13',\n",
       " 'https://soundcloud.com/aniel-rossi/k-with-sindrome-3',\n",
       " 'https://soundcloud.com/aniel-rossi/k-with-sindrome-7']"
      ]
     },
     "execution_count": 60,
     "metadata": {},
     "output_type": "execute_result"
    }
   ],
   "source": [
    "net.get_nodes()"
   ]
  },
  {
   "cell_type": "code",
   "execution_count": 61,
   "id": "5c94b6da",
   "metadata": {},
   "outputs": [],
   "source": [
    "net.show('mygraph.html')"
   ]
  },
  {
   "cell_type": "code",
   "execution_count": null,
   "id": "2f378e2f",
   "metadata": {},
   "outputs": [],
   "source": []
  },
  {
   "cell_type": "code",
   "execution_count": null,
   "id": "acdbf502",
   "metadata": {},
   "outputs": [],
   "source": []
  }
 ],
 "metadata": {
  "kernelspec": {
   "display_name": "Python [conda env:tracklist_explorer]",
   "language": "python",
   "name": "conda-env-tracklist_explorer-py"
  },
  "language_info": {
   "codemirror_mode": {
    "name": "ipython",
    "version": 3
   },
   "file_extension": ".py",
   "mimetype": "text/x-python",
   "name": "python",
   "nbconvert_exporter": "python",
   "pygments_lexer": "ipython3",
   "version": "3.10.4"
  }
 },
 "nbformat": 4,
 "nbformat_minor": 5
}
